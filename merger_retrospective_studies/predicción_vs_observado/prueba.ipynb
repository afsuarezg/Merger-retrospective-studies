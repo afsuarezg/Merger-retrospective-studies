{
 "cells": [
  {
   "cell_type": "code",
   "execution_count": 3,
   "metadata": {},
   "outputs": [],
   "source": [
    "import pandas as pd"
   ]
  },
  {
   "cell_type": "code",
   "execution_count": 4,
   "metadata": {},
   "outputs": [],
   "source": [
    "# Sample data for the dictionary and DataFrame\n",
    "previous_dict = {'x': [1, 3,8], 'y': [2, 5], 'z': [4]}\n",
    "\n",
    "data2 = {\n",
    "    'a': ['x', 'x', 'y', 'y', 'z', 'z', 'x', 'y'],\n",
    "    'b': [1, 3, 2, 5, 4, 4, 3, 5]}\n",
    "\n",
    "df2 = pd.DataFrame(data2)\n"
   ]
  },
  {
   "cell_type": "code",
   "execution_count": 7,
   "metadata": {},
   "outputs": [
    {
     "data": {
      "text/plain": [
       "a\n",
       "x    [1, 3]\n",
       "y    [2, 5]\n",
       "z       [4]\n",
       "Name: b, dtype: object"
      ]
     },
     "execution_count": 7,
     "metadata": {},
     "output_type": "execute_result"
    }
   ],
   "source": [
    "unique_b = df2.groupby('a')['b'].unique()\n",
    "unique_b"
   ]
  },
  {
   "cell_type": "code",
   "execution_count": 11,
   "metadata": {},
   "outputs": [
    {
     "name": "stdout",
     "output_type": "stream",
     "text": [
      "('x', array([1, 3]))\n",
      "('y', array([2, 5]))\n",
      "('z', array([4]))\n"
     ]
    }
   ],
   "source": [
    "for item in unique_b.items():print(item)"
   ]
  },
  {
   "cell_type": "code",
   "execution_count": null,
   "metadata": {},
   "outputs": [
    {
     "data": {
      "text/plain": [
       "[array([1, 3]), array([2, 5]), array([4])]"
      ]
     },
     "execution_count": 12,
     "metadata": {},
     "output_type": "execute_result"
    }
   ],
   "source": [
    "[key for key, values in unique_b.items() if set(values).issubset(set(ref_dict.get(key, [])))]"
   ]
  },
  {
   "cell_type": "code",
   "execution_count": 16,
   "metadata": {},
   "outputs": [
    {
     "name": "stdout",
     "output_type": "stream",
     "text": [
      "x\n",
      "   a  b\n",
      "0  x  1\n",
      "1  x  3\n",
      "6  x  3\n",
      "\n",
      "\n",
      "y\n",
      "   a  b\n",
      "2  y  2\n",
      "3  y  5\n",
      "7  y  5\n",
      "\n",
      "\n",
      "z\n",
      "   a  b\n",
      "4  z  4\n",
      "5  z  4\n",
      "\n",
      "\n"
     ]
    }
   ],
   "source": [
    "for name, group in df2.groupby('a'):\n",
    "    print(name)\n",
    "    print(group)\n",
    "    print('\\n')"
   ]
  },
  {
   "cell_type": "code",
   "execution_count": null,
   "metadata": {},
   "outputs": [],
   "source": []
  }
 ],
 "metadata": {
  "kernelspec": {
   "display_name": ".venv",
   "language": "python",
   "name": "python3"
  },
  "language_info": {
   "codemirror_mode": {
    "name": "ipython",
    "version": 3
   },
   "file_extension": ".py",
   "mimetype": "text/x-python",
   "name": "python",
   "nbconvert_exporter": "python",
   "pygments_lexer": "ipython3",
   "version": "3.10.11"
  }
 },
 "nbformat": 4,
 "nbformat_minor": 2
}
