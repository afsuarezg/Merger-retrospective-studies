{
 "cells": [
  {
   "cell_type": "code",
   "execution_count": 2,
   "metadata": {},
   "outputs": [],
   "source": [
    "import os\n",
    "import zipfile\n",
    "import fnmatch"
   ]
  },
  {
   "cell_type": "code",
   "execution_count": 23,
   "metadata": {},
   "outputs": [],
   "source": [
    "zip_folder =r'C:\\Users\\Andres.DESKTOP-D77KM25\\OneDrive - Stanford\\2021 - 2025\\Research\\Merger retrospective studies\\Current Population Survey\\2020'"
   ]
  },
  {
   "cell_type": "code",
   "execution_count": 24,
   "metadata": {},
   "outputs": [
    {
     "name": "stdout",
     "output_type": "stream",
     "text": [
      "Extracting apr20pub.dat from apr20pub.zip\n",
      "Extracting aug20pub.dat from aug20pub.zip\n",
      "Extracting dec20pub.dat from dec20pub.zip\n",
      "Extracting feb20pub.dat from feb20pub.zip\n",
      "Extracting jan20pub.dat from jan20pub.zip\n",
      "Extracting jul20pub.dat from jul20pub.zip\n",
      "Extracting jun20pub.dat from jun20pub.zip\n",
      "Extracting mar20pub.dat from mar20pub.zip\n",
      "Extracting may20pub.dat from may20pub.zip\n",
      "Extracting nov20pub.dat from nov20pub.zip\n",
      "Extracting oct20pub.dat from oct20pub.zip\n",
      "Extracting sep20pub.dat from sep20pub.zip\n",
      "Extraction completed!\n"
     ]
    }
   ],
   "source": [
    "file_pattern = \"*.dat\"\n",
    "\n",
    "# Iterate through each zip file in the directory\n",
    "for zip_filename in os.listdir(zip_folder):\n",
    "    if zip_filename.endswith(\".zip\"):\n",
    "        zip_path = os.path.join(zip_folder, zip_filename)\n",
    "        \n",
    "        with zipfile.ZipFile(zip_path, 'r') as zip_file:\n",
    "            # Extract specific files based on the target files or pattern\n",
    "            for file_name in zip_file.namelist():\n",
    "                if fnmatch.fnmatch(file_name, file_pattern):  # Match pattern\n",
    "                    print(f\"Extracting {file_name} from {zip_filename}\")\n",
    "                    zip_file.extract(file_name, zip_folder)\n",
    "\n",
    "print(\"Extraction completed!\")"
   ]
  }
 ],
 "metadata": {
  "kernelspec": {
   "display_name": ".venv",
   "language": "python",
   "name": "python3"
  },
  "language_info": {
   "codemirror_mode": {
    "name": "ipython",
    "version": 3
   },
   "file_extension": ".py",
   "mimetype": "text/x-python",
   "name": "python",
   "nbconvert_exporter": "python",
   "pygments_lexer": "ipython3",
   "version": "3.10.11"
  }
 },
 "nbformat": 4,
 "nbformat_minor": 2
}
