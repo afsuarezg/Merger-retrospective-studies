{
 "cells": [
  {
   "cell_type": "code",
   "execution_count": 2,
   "metadata": {},
   "outputs": [],
   "source": [
    "import os\n",
    "import zipfile\n",
    "import fnmatch"
   ]
  },
  {
   "cell_type": "code",
   "execution_count": 23,
   "metadata": {},
   "outputs": [],
   "source": [
    "zip_folder =r'C:\\Users\\Andres.DESKTOP-D77KM25\\OneDrive - Stanford\\2021 - 2025\\Research\\Merger retrospective studies\\Current Population Survey\\2020'"
   ]
  },
  {
   "cell_type": "code",
   "execution_count": 24,
   "metadata": {},
   "outputs": [
    {
     "name": "stdout",
     "output_type": "stream",
     "text": [
      "Extracting apr20pub.dat from apr20pub.zip\n",
      "Extracting aug20pub.dat from aug20pub.zip\n",
      "Extracting dec20pub.dat from dec20pub.zip\n",
      "Extracting feb20pub.dat from feb20pub.zip\n",
      "Extracting jan20pub.dat from jan20pub.zip\n",
      "Extracting jul20pub.dat from jul20pub.zip\n",
      "Extracting jun20pub.dat from jun20pub.zip\n",
      "Extracting mar20pub.dat from mar20pub.zip\n",
      "Extracting may20pub.dat from may20pub.zip\n",
      "Extracting nov20pub.dat from nov20pub.zip\n",
      "Extracting oct20pub.dat from oct20pub.zip\n",
      "Extracting sep20pub.dat from sep20pub.zip\n",
      "Extraction completed!\n"
     ]
    }
   ],
   "source": [
    "file_pattern = \"*.dat\"\n",
    "\n",
    "# Iterate through each zip file in the directory\n",
    "for zip_filename in os.listdir(zip_folder):\n",
    "    if zip_filename.endswith(\".zip\"):\n",
    "        zip_path = os.path.join(zip_folder, zip_filename)\n",
    "        \n",
    "        with zipfile.ZipFile(zip_path, 'r') as zip_file:\n",
    "            # Extract specific files based on the target files or pattern\n",
    "            for file_name in zip_file.namelist():\n",
    "                if fnmatch.fnmatch(file_name, file_pattern):  # Match pattern\n",
    "                    print(f\"Extracting {file_name} from {zip_filename}\")\n",
    "                    zip_file.extract(file_name, zip_folder)\n",
    "\n",
    "print(\"Extraction completed!\")"
   ]
  },
  {
   "cell_type": "code",
   "execution_count": 10,
   "metadata": {},
   "outputs": [],
   "source": [
    "def mymate(*ints):\n",
    "    result = 0\n",
    "    for int in ints:\n",
    "        result += int\n",
    "    print(result)\n"
   ]
  },
  {
   "cell_type": "code",
   "execution_count": 11,
   "metadata": {},
   "outputs": [
    {
     "name": "stdout",
     "output_type": "stream",
     "text": [
      "21\n"
     ]
    }
   ],
   "source": [
    "mymate(1,2,3,4,5,6)"
   ]
  },
  {
   "cell_type": "code",
   "execution_count": 12,
   "metadata": {},
   "outputs": [
    {
     "name": "stdout",
     "output_type": "stream",
     "text": [
      "{'a': 1, 'b': -2, 'c': 3, 'd': -4}\n"
     ]
    }
   ],
   "source": [
    "def check_parameters(a, b, c, d):\n",
    "    # Create a dictionary of parameter names and values\n",
    "    params = locals()\n",
    "    return params\n",
    "\n",
    "\n",
    "result = check_parameters(1, -2, 3, -4)\n",
    "print(result)"
   ]
  },
  {
   "cell_type": "code",
   "execution_count": 14,
   "metadata": {},
   "outputs": [],
   "source": [
    "import numpy as np\n",
    "from scipy.linalg import svd\n",
    "import pandas as pd"
   ]
  },
  {
   "cell_type": "code",
   "execution_count": 27,
   "metadata": {},
   "outputs": [],
   "source": [
    "def check_matrix_collinearity(matrix):\n",
    "    \"\"\"\n",
    "    Checks for collinearity within the columns of a given matrix.\n",
    "\n",
    "    Args:\n",
    "        matrix: A NumPy array representing the matrix.\n",
    "\n",
    "    Returns:\n",
    "        True if collinearity is detected, False otherwise.\n",
    "    \"\"\"\n",
    "\n",
    "    _, s, _ = svd(matrix)\n",
    "    \n",
    "    # Check for singular values close to zero\n",
    "    # Adjust the tolerance value (1e-10) based on your specific needs\n",
    "    if np.any(np.abs(s) < 1e-10):\n",
    "        return True  # Collinearity detected\n",
    "    else:\n",
    "        return False\n",
    "\n",
    "def find_first_non_collinear_matrix(**dfs):\n",
    "    \"\"\"\n",
    "    Finds the first DataFrame in the list that does not exhibit collinearity.\n",
    "\n",
    "    Args:\n",
    "        df_list: A list of pandas DataFrames.\n",
    "\n",
    "    Returns:\n",
    "        The first DataFrame in the list that does not have collinear columns, \n",
    "        or None if all DataFrames exhibit collinearity.\n",
    "    \"\"\"\n",
    "\n",
    "\n",
    "    for key, value in dfs.items():\n",
    "        # matrix = df.values  # Convert DataFrame to NumPy array\n",
    "        if not check_matrix_collinearity(value):\n",
    "            print(key)\n",
    "            return value\n",
    "    return None"
   ]
  },
  {
   "cell_type": "code",
   "execution_count": 28,
   "metadata": {},
   "outputs": [
    {
     "name": "stdout",
     "output_type": "stream",
     "text": [
      "df3\n"
     ]
    },
    {
     "data": {
      "text/html": [
       "<div>\n",
       "<style scoped>\n",
       "    .dataframe tbody tr th:only-of-type {\n",
       "        vertical-align: middle;\n",
       "    }\n",
       "\n",
       "    .dataframe tbody tr th {\n",
       "        vertical-align: top;\n",
       "    }\n",
       "\n",
       "    .dataframe thead th {\n",
       "        text-align: right;\n",
       "    }\n",
       "</style>\n",
       "<table border=\"1\" class=\"dataframe\">\n",
       "  <thead>\n",
       "    <tr style=\"text-align: right;\">\n",
       "      <th></th>\n",
       "      <th>P</th>\n",
       "      <th>Q</th>\n",
       "      <th>R</th>\n",
       "    </tr>\n",
       "  </thead>\n",
       "  <tbody>\n",
       "    <tr>\n",
       "      <th>0</th>\n",
       "      <td>1</td>\n",
       "      <td>4</td>\n",
       "      <td>7</td>\n",
       "    </tr>\n",
       "    <tr>\n",
       "      <th>1</th>\n",
       "      <td>2</td>\n",
       "      <td>5</td>\n",
       "      <td>8</td>\n",
       "    </tr>\n",
       "    <tr>\n",
       "      <th>2</th>\n",
       "      <td>3</td>\n",
       "      <td>6</td>\n",
       "      <td>10</td>\n",
       "    </tr>\n",
       "  </tbody>\n",
       "</table>\n",
       "</div>"
      ],
      "text/plain": [
       "   P  Q   R\n",
       "0  1  4   7\n",
       "1  2  5   8\n",
       "2  3  6  10"
      ]
     },
     "execution_count": 28,
     "metadata": {},
     "output_type": "execute_result"
    }
   ],
   "source": [
    "# Example usage:\n",
    "# Create a list of sample DataFrames\n",
    "df1 = pd.DataFrame({'A': [1, 2, 3], 'B': [2, 4, 6], 'C': [3, 6, 9]})  # Collinear\n",
    "df2 = pd.DataFrame({'X': [1, 4, 7], 'Y': [2, 5, 8], 'Z': [3, 6, 9]})  # Collinear\n",
    "df3 = pd.DataFrame({'P': [1, 2, 3], 'Q': [4, 5, 6], 'R': [7, 8, 10]})  # Non-collinear\n",
    "df_list = [df1, df2, df3]\n",
    "\n",
    "non_collinear_df = find_first_non_collinear_matrix(df1=df1, df2=df2, df3=df3)\n",
    "non_collinear_df"
   ]
  },
  {
   "cell_type": "code",
   "execution_count": null,
   "metadata": {},
   "outputs": [],
   "source": []
  }
 ],
 "metadata": {
  "kernelspec": {
   "display_name": ".venv",
   "language": "python",
   "name": "python3"
  },
  "language_info": {
   "codemirror_mode": {
    "name": "ipython",
    "version": 3
   },
   "file_extension": ".py",
   "mimetype": "text/x-python",
   "name": "python",
   "nbconvert_exporter": "python",
   "pygments_lexer": "ipython3",
   "version": "3.10.11"
  }
 },
 "nbformat": 4,
 "nbformat_minor": 2
}
